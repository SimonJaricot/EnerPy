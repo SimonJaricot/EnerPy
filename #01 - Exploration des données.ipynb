{
 "cells": [
  {
   "cell_type": "code",
   "execution_count": 1,
   "metadata": {},
   "outputs": [],
   "source": [
    "import pandas as pd\n",
    "import numpy as np\n",
    "from datetime import datetime\n",
    "import seaborn as sns\n",
    "import matplotlib.pyplot as plt\n",
    "import feather\n",
    "pd.set_option('display.max_columns', None)\n",
    "pd.set_option('display.max_rows', None)\n",
    "\n",
    "# Colonnes à renommer pour plus de facilités \n",
    "col_names = ['code_insee_region', 'region', 'nature', 'date', 'heure', 'date_heure', 'consommation', 'thermique', 'nucleaire', 'eolien', 'solaire', 'hydraulique', 'pompage', 'bioenergies', 'ech_physiques', 'flux_physiques_d_auvergne_rhone_alpes_vers_grand_est', 'flux_physiques_de_bourgogne_franche_comte_vers_grand_est', 'flux_physiques_de_bretagne_vers_grand_est', 'flux_physiques_de_centre_val_de_loire_vers_grand_est', 'flux_physiques_de_grand_est_vers_grand_est', 'flux_physiques_de_hauts_de_france_vers_grand_est', 'flux_physiques_d_ile_de_france_vers_grand_est', 'flux_physiques_de_normandie_vers_grand_est', 'flux_physiques_de_nouvelle_aquitaine_vers_grand_est', 'flux_physiques_d_occitanie_vers_grand_est', 'flux_physiques_de_pays_de_la_loire_vers_grand_est', 'flux_physiques_de_paca_vers_grand_est', 'flux_physiques_de_grand_est_vers_auvergne_rhone_alpes', 'flux_physiques_de_grand_est_vers_bourgogne_franche_comte', 'flux_physiques_de_grand_est_vers_bretagne', 'flux_physiques_de_grand_est_vers_centre_val_de_loire', 'flux_physiques_de_grand_est_vers_grand_est0', 'flux_physiques_de_grand_est_vers_hauts_de_france', 'flux_physiques_de_grand_est_vers_ile_de_france', 'flux_physiques_de_grand_est_vers_normandie', 'flux_physiques_de_grand_est_vers_nouvelle_aquitaine', 'flux_physiques_de_grand_est_vers_occitanie', 'flux_physiques_de_grand_est_vers_pays_de_la_loire', 'flux_physiques_de_grand_est_vers_paca', 'flux_physiques_allemagne_vers_grand_est', 'flux_physiques_belgique_vers_grand_est', 'flux_physiques_espagne_vers_grand_est', 'flux_physiques_italie_vers_grand_est', 'flux_physiques_luxembourg_vers_grand_est', 'flux_physiques_royaume_uni_vers_grand_est', 'flux_physiques_suisse_vers_grand_est', 'flux_physiques_de_grand_est_vers_allemagne', 'flux_physiques_de_grand_est_vers_belgique', 'flux_physiques_de_grand_est_vers_espagne' , 'flux_physiques_de_grand_est_vers_italie', 'flux_physiques_de_grand_est_vers_luxembourg', 'flux_physiques_de_grand_est_vers_royaume_uni', 'flux_physiques_de_grand_est_vers_suisse', 'tco_thermique', 'tch_thermique', 'tco_nucleaire', 'tch_nucleaire', 'tco_eolien', 'tch_eolien', 'tco_solaire', 'tch_solaire', 'tco_hydraulique', 'tch_hydraulique', 'tco_bioenergies', 'tch_bioenergies']\n",
    "# na_values observées dans le jeu de données\n",
    "df = pd.read_csv('data/energy.csv', sep=';', na_values=['-', 'ND'], header=0, names=col_names)"
   ]
  },
  {
   "cell_type": "code",
   "execution_count": 2,
   "metadata": {},
   "outputs": [],
   "source": [
    "cols_na = ['consommation', 'thermique', 'nucleaire', 'eolien', 'solaire', 'hydraulique', 'pompage', 'bioenergies']\n",
    "#na_energy = df[df[cols_na].isna().all(1)]"
   ]
  },
  {
   "cell_type": "code",
   "execution_count": 3,
   "metadata": {},
   "outputs": [],
   "source": [
    "# Supression des colonnes vides\n",
    "cols_na = df.columns[(df.isna().sum() == df.shape[0])]\n",
    "df.drop(columns=cols_na, inplace=True)\n",
    "df.drop(columns=['date', 'heure', 'tco_thermique', 'tch_thermique', 'tco_nucleaire', 'tch_nucleaire', 'tco_eolien', 'tch_eolien', 'tco_solaire', 'tch_solaire', 'tco_hydraulique', 'tch_hydraulique', 'tco_bioenergies', 'tch_bioenergies'], inplace=True)"
   ]
  },
  {
   "cell_type": "code",
   "execution_count": 4,
   "metadata": {},
   "outputs": [],
   "source": [
    "# Conversion en datetime de date_heure\n",
    "df.date_heure = pd.to_datetime(df.date_heure, utc=True)\n"
   ]
  },
  {
   "cell_type": "code",
   "execution_count": 5,
   "metadata": {},
   "outputs": [],
   "source": [
    "# Récupère que les données sup à 2013\n",
    "df = df[(df.date_heure.dt.year > 2012) & (df.date_heure.dt.year < 2021)].reset_index(drop=True)"
   ]
  },
  {
   "cell_type": "code",
   "execution_count": 6,
   "metadata": {},
   "outputs": [],
   "source": [
    "# Ajoute quelques colonnes\n",
    "df['annee'] = df['date_heure'].dt.year\n",
    "df['mois'] = df['date_heure'].dt.month\n",
    "df['jour'] = df['date_heure'].dt.day\n",
    "df['heure'] = df['date_heure'].dt.hour\n",
    "df['minute'] = df['date_heure'].dt.minute\n",
    "df['seconde'] = df['date_heure'].dt.second\n",
    "df['dayofweek'] = df['date_heure'].dt.dayofweek\n",
    "df['am'] = df['date_heure'].dt.strftime('%Y-%m')\n",
    "df['amj'] = df['date_heure'].dt.strftime('%Y-%m-%d')\n",
    "# 1 = hiver, 2 = printemps, 3 = été, 4 = automne \n",
    "df['saison'] = df.mois%12 // 3+1"
   ]
  },
  {
   "cell_type": "code",
   "execution_count": 7,
   "metadata": {},
   "outputs": [],
   "source": [
    "# Calcul de la production de pompage\n",
    "# Change le nom de pompage\n",
    "df['pompage_prod'] = df.pompage.fillna(0)*(1-1.25)"
   ]
  },
  {
   "cell_type": "code",
   "execution_count": 8,
   "metadata": {},
   "outputs": [],
   "source": [
    "df.rename(columns={'pompage': 'pompage_conso'}, inplace=True)"
   ]
  },
  {
   "cell_type": "code",
   "execution_count": 9,
   "metadata": {},
   "outputs": [],
   "source": [
    "df['total_prod'] = df.thermique.fillna(0) + df.nucleaire.fillna(0) + df.eolien.fillna(0) + df.solaire.fillna(0) + df.hydraulique.fillna(0) + df.pompage_prod.fillna(0)"
   ]
  },
  {
   "cell_type": "code",
   "execution_count": 10,
   "metadata": {},
   "outputs": [],
   "source": [
    "cols = ['code_insee_region', 'region', 'nature',\n",
    "    'date_heure','annee','mois', 'jour', 'heure', 'minute', 'seconde', 'dayofweek', 'am', 'amj', 'saison',\n",
    "    'consommation', 'ech_physiques',\n",
    "    'thermique', 'nucleaire', 'eolien', 'solaire', 'hydraulique',\n",
    "    'bioenergies', 'pompage_prod', 'pompage_conso', 'total_prod']"
   ]
  },
  {
   "cell_type": "code",
   "execution_count": 11,
   "metadata": {},
   "outputs": [],
   "source": [
    "# Ordonne les colonnes\n",
    "df = df[cols]"
   ]
  },
  {
   "cell_type": "code",
   "execution_count": 12,
   "metadata": {},
   "outputs": [],
   "source": [
    "df.to_feather('data/energy_clean.ftr')"
   ]
  },
  {
   "cell_type": "code",
   "execution_count": 13,
   "metadata": {},
   "outputs": [
    {
     "data": {
      "text/plain": [
       "Index(['code_insee_region', 'region', 'nature', 'date_heure', 'annee', 'mois',\n",
       "       'jour', 'heure', 'minute', 'seconde', 'dayofweek', 'am', 'amj',\n",
       "       'saison', 'consommation', 'ech_physiques', 'thermique', 'nucleaire',\n",
       "       'eolien', 'solaire', 'hydraulique', 'bioenergies', 'pompage_prod',\n",
       "       'pompage_conso', 'total_prod'],\n",
       "      dtype='object')"
      ]
     },
     "execution_count": 13,
     "metadata": {},
     "output_type": "execute_result"
    }
   ],
   "source": [
    "df.columns"
   ]
  },
  {
   "cell_type": "code",
   "execution_count": 20,
   "metadata": {},
   "outputs": [
    {
     "name": "stdout",
     "output_type": "stream",
     "text": [
      "-5273.854352041981\n",
      "7665.807673112024\n"
     ]
    }
   ],
   "source": [
    "print(df[ df['region'] == 'Auvergne-Rhône-Alpes']['ech_physiques'].mean())\n",
    "print(df[ df['region'] == 'Île-de-France']['ech_physiques'].mean())"
   ]
  },
  {
   "cell_type": "code",
   "execution_count": null,
   "metadata": {},
   "outputs": [],
   "source": []
  }
 ],
 "metadata": {
  "interpreter": {
   "hash": "dca0ade3e726a953b501b15e8e990130d2b7799f14cfd9f4271676035ebe5511"
  },
  "kernelspec": {
   "display_name": "Python 3 (ipykernel)",
   "language": "python",
   "name": "python3"
  },
  "language_info": {
   "codemirror_mode": {
    "name": "ipython",
    "version": 3
   },
   "file_extension": ".py",
   "mimetype": "text/x-python",
   "name": "python",
   "nbconvert_exporter": "python",
   "pygments_lexer": "ipython3",
   "version": "3.8.10"
  }
 },
 "nbformat": 4,
 "nbformat_minor": 4
}
