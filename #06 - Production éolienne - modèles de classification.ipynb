{
 "cells": [
  {
   "cell_type": "markdown",
   "id": "26d3f311",
   "metadata": {},
   "source": [
    "## Contenu :\n",
    "### 1.  Random Forest Classifier\n",
    "### 2.  K nearest neighbours Classifier\n",
    "\n",
    "Ces algorithmes ont été essayés avec de nombreuses combinaisons de données et de variables, comme détaillé dans le rapport. Ce notebook contient le code uniquement pour le modèle finalement retenu  pour chaque algorithme. (Le code de toutes les combinaisons testées se trouve dans le branch \"Deborah\" du repo Github)\n",
    "\n",
    "___________________________________________________________________________________________________________________\n"
   ]
  },
  {
   "cell_type": "markdown",
   "id": "13dda1a9",
   "metadata": {},
   "source": [
    "## Random Forest Classifier"
   ]
  },
  {
   "cell_type": "code",
   "execution_count": 2,
   "id": "8126bac8",
   "metadata": {},
   "outputs": [
    {
     "data": {
      "text/plain": [
       "(1461, 13)"
      ]
     },
     "execution_count": 2,
     "metadata": {},
     "output_type": "execute_result"
    }
   ],
   "source": [
    "import pandas as pd\n",
    "import matplotlib.pyplot as plt\n",
    "%matplotlib inline \n",
    "import seaborn as sns\n",
    "from sklearn import ensemble\n",
    "from sklearn.model_selection import train_test_split\n",
    "from sklearn import model_selection\n",
    "\n",
    "#import des données (préparée dans le notebook \"Visualisation\")\n",
    "df = pd.read_csv(\"tempdata_2016_2019.csv\")\n",
    "# on prend la région Hauts de France\n",
    "HDF = df.loc[(df[\"Région\"] == \"Hauts-de-France\")]\n",
    "HDF.shape\n",
    "# 1,461 observations"
   ]
  },
  {
   "cell_type": "code",
   "execution_count": 4,
   "id": "fd295169",
   "metadata": {},
   "outputs": [
    {
     "data": {
      "image/png": "[encoded data removed]",
      "text/plain": [
       "<Figure size 360x360 with 1 Axes>"
      ]
     },
     "metadata": {
      "needs_background": "light"
     },
     "output_type": "display_data"
    }
   ],
   "source": [
    "# Quelle est la distribution de la variable \"Eolien (MW)\"?\n",
    "\n",
    "sns.displot(HDF['Eolien_sum(MW)']);"
   ]
  },
  {
   "cell_type": "code",
   "execution_count": 5,
   "id": "570fe656",
   "metadata": {},
   "outputs": [
    {
     "name": "stderr",
     "output_type": "stream",
     "text": [
      "<ipython-input-5-2d5299909fcb>:2: SettingWithCopyWarning: \n",
      "A value is trying to be set on a copy of a slice from a DataFrame.\n",
      "Try using .loc[row_indexer,col_indexer] = value instead\n",
      "\n",
      "See the caveats in the documentation: https://pandas.pydata.org/pandas-docs/stable/user_guide/indexing.html#returning-a-view-versus-a-copy\n",
      "  HDF[\"Eolien_groups\"] = pd.qcut(x = HDF['Eolien_sum(MW)'], q=5,\n"
     ]
    }
   ],
   "source": [
    "# on va grouper la production en quintiles\n",
    "HDF[\"Eolien_groups\"] = pd.qcut(x = HDF['Eolien_sum(MW)'], q=5,\n",
    "                  labels = ['Q1', 'Q2', 'Q3', 'Q4', 'Q5'])"
   ]
  },
  {
   "cell_type": "code",
   "execution_count": 6,
   "id": "7f59a941",
   "metadata": {},
   "outputs": [
    {
     "name": "stdout",
     "output_type": "stream",
     "text": [
      "[  112.  1818.  3355.  5611.  9793. 27094.]\n"
     ]
    }
   ],
   "source": [
    "results, bins_edges = pd.qcut(x = HDF['Eolien_sum(MW)'], q=5, retbins=True)\n",
    "print(bins_edges)\n",
    "\n",
    "# Les groupes sont : \n",
    "# 112-1,818 MW / 1,818-3,355 MW / 3,355-5,611 MW / 5,611-9,793 MW / 9,793-27,094 MW\n",
    "# on note que l'amplitude du dernier groupe est très grande"
   ]
  },
  {
   "cell_type": "code",
   "execution_count": 8,
   "id": "c207ed2d",
   "metadata": {},
   "outputs": [
    {
     "data": {
      "text/html": [
       "<div>\n",
       "<style scoped>\n",
       "    .dataframe tbody tr th:only-of-type {\n",
       "        vertical-align: middle;\n",
       "    }\n",
       "\n",
       "    .dataframe tbody tr th {\n",
       "        vertical-align: top;\n",
       "    }\n",
       "\n",
       "    .dataframe thead th {\n",
       "        text-align: right;\n",
       "    }\n",
       "</style>\n",
       "<table border=\"1\" class=\"dataframe\">\n",
       "  <thead>\n",
       "    <tr style=\"text-align: right;\">\n",
       "      <th></th>\n",
       "      <th>Vitesse_vent_mean(m/s)</th>\n",
       "      <th>TMoy (°C)</th>\n",
       "      <th>Eolien_groups</th>\n",
       "      <th>Annee_2016</th>\n",
       "      <th>Annee_2017</th>\n",
       "      <th>Annee_2018</th>\n",
       "      <th>Annee_2019</th>\n",
       "      <th>Month_1</th>\n",
       "      <th>Month_2</th>\n",
       "      <th>Month_3</th>\n",
       "      <th>...</th>\n",
       "      <th>Month_10</th>\n",
       "      <th>Month_11</th>\n",
       "      <th>Month_12</th>\n",
       "      <th>Day_Friday</th>\n",
       "      <th>Day_Monday</th>\n",
       "      <th>Day_Saturday</th>\n",
       "      <th>Day_Sunday</th>\n",
       "      <th>Day_Thursday</th>\n",
       "      <th>Day_Tuesday</th>\n",
       "      <th>Day_Wednesday</th>\n",
       "    </tr>\n",
       "  </thead>\n",
       "  <tbody>\n",
       "    <tr>\n",
       "      <th>7305</th>\n",
       "      <td>8.911429</td>\n",
       "      <td>4.72</td>\n",
       "      <td>Q3</td>\n",
       "      <td>1</td>\n",
       "      <td>0</td>\n",
       "      <td>0</td>\n",
       "      <td>0</td>\n",
       "      <td>1</td>\n",
       "      <td>0</td>\n",
       "      <td>0</td>\n",
       "      <td>...</td>\n",
       "      <td>0</td>\n",
       "      <td>0</td>\n",
       "      <td>0</td>\n",
       "      <td>1</td>\n",
       "      <td>0</td>\n",
       "      <td>0</td>\n",
       "      <td>0</td>\n",
       "      <td>0</td>\n",
       "      <td>0</td>\n",
       "      <td>0</td>\n",
       "    </tr>\n",
       "    <tr>\n",
       "      <th>7306</th>\n",
       "      <td>9.782500</td>\n",
       "      <td>8.51</td>\n",
       "      <td>Q5</td>\n",
       "      <td>1</td>\n",
       "      <td>0</td>\n",
       "      <td>0</td>\n",
       "      <td>0</td>\n",
       "      <td>1</td>\n",
       "      <td>0</td>\n",
       "      <td>0</td>\n",
       "      <td>...</td>\n",
       "      <td>0</td>\n",
       "      <td>0</td>\n",
       "      <td>0</td>\n",
       "      <td>0</td>\n",
       "      <td>0</td>\n",
       "      <td>1</td>\n",
       "      <td>0</td>\n",
       "      <td>0</td>\n",
       "      <td>0</td>\n",
       "      <td>0</td>\n",
       "    </tr>\n",
       "    <tr>\n",
       "      <th>7307</th>\n",
       "      <td>10.170000</td>\n",
       "      <td>6.70</td>\n",
       "      <td>Q5</td>\n",
       "      <td>1</td>\n",
       "      <td>0</td>\n",
       "      <td>0</td>\n",
       "      <td>0</td>\n",
       "      <td>1</td>\n",
       "      <td>0</td>\n",
       "      <td>0</td>\n",
       "      <td>...</td>\n",
       "      <td>0</td>\n",
       "      <td>0</td>\n",
       "      <td>0</td>\n",
       "      <td>0</td>\n",
       "      <td>0</td>\n",
       "      <td>0</td>\n",
       "      <td>1</td>\n",
       "      <td>0</td>\n",
       "      <td>0</td>\n",
       "      <td>0</td>\n",
       "    </tr>\n",
       "  </tbody>\n",
       "</table>\n",
       "<p>3 rows × 26 columns</p>\n",
       "</div>"
      ],
      "text/plain": [
       "      Vitesse_vent_mean(m/s)  TMoy (°C) Eolien_groups  Annee_2016  Annee_2017  \\\n",
       "7305                8.911429       4.72            Q3           1           0   \n",
       "7306                9.782500       8.51            Q5           1           0   \n",
       "7307               10.170000       6.70            Q5           1           0   \n",
       "\n",
       "      Annee_2018  Annee_2019  Month_1  Month_2  Month_3  ...  Month_10  \\\n",
       "7305           0           0        1        0        0  ...         0   \n",
       "7306           0           0        1        0        0  ...         0   \n",
       "7307           0           0        1        0        0  ...         0   \n",
       "\n",
       "      Month_11  Month_12  Day_Friday  Day_Monday  Day_Saturday  Day_Sunday  \\\n",
       "7305         0         0           1           0             0           0   \n",
       "7306         0         0           0           0             1           0   \n",
       "7307         0         0           0           0             0           1   \n",
       "\n",
       "      Day_Thursday  Day_Tuesday  Day_Wednesday  \n",
       "7305             0            0              0  \n",
       "7306             0            0              0  \n",
       "7307             0            0              0  \n",
       "\n",
       "[3 rows x 26 columns]"
      ]
     },
     "execution_count": 8,
     "metadata": {},
     "output_type": "execute_result"
    }
   ],
   "source": [
    "# selectionner les colonnes:\n",
    "Data= HDF.drop(['Région','Date','Eolien_sum(MW)','Solaire_sum(MW)', 'Rayonnement_solaire_mean(W/m2)',\n",
    "                'Consommation-sum(MW)','TMin (°C)','TMax (°C)'], axis=1)\n",
    "Data_dummies = pd.get_dummies(data=Data, columns=['Annee', 'Month', 'Day'])\n",
    "Data_dummies.head(3)"
   ]
  },
  {
   "cell_type": "code",
   "execution_count": 10,
   "id": "bab015e4",
   "metadata": {},
   "outputs": [
    {
     "name": "stdout",
     "output_type": "stream",
     "text": [
      "{'max_depth': 8, 'max_features': 'sqrt', 'n_estimators': 500}\n"
     ]
    }
   ],
   "source": [
    "data = Data_dummies.drop('Eolien_groups', axis=1)\n",
    "target = Data_dummies['Eolien_groups']\n",
    "\n",
    "X_train, X_test, y_train, y_test = train_test_split(data, target, test_size=0.2, random_state=101)\n",
    "\n",
    "# Création du modèle et recherche des meilleurs parametres\n",
    "\n",
    "clf_rf = ensemble.RandomForestClassifier(random_state=22)\n",
    "parametres_rf = {'n_estimators':[100, 250, 500, 1000],'max_features':['sqrt', 'log2'],'max_depth':[2, 4, 8]}\n",
    "grid_clf_rf = model_selection.GridSearchCV(estimator=clf_rf, param_grid=parametres_rf, scoring='accuracy', cv = 5)\n",
    "grille_rf = grid_clf_rf.fit(X_train,y_train)\n",
    "print(grid_clf_rf.best_params_)"
   ]
  },
  {
   "cell_type": "code",
   "execution_count": 15,
   "id": "778e0446",
   "metadata": {},
   "outputs": [
    {
     "data": {
      "image/png": "[encoded data removed]",
      "text/plain": [
       "<Figure size 576x288 with 2 Axes>"
      ]
     },
     "metadata": {
      "needs_background": "light"
     },
     "output_type": "display_data"
    }
   ],
   "source": [
    "# appliquer le modèle au test set\n",
    "y_pred = grid_clf_rf.predict(X_test)\n",
    "# matrice de confusion\n",
    "table = pd.crosstab(y_test, y_pred, rownames=['Classe réelle'], colnames=['Classe prédite'], normalize = 0).round(2)\n",
    "plt.figure(figsize=(8,4))\n",
    "sns.heatmap(table, annot=True, cmap='RdBu_r')\n",
    "plt.savefig(\"Pictures/#39_-_RF_confusion_matrix.png\", dpi=150, bbox_inches='tight')\n",
    "plt.show()\n",
    "# On voit des bonnes nombres de bonnes predictions pour Q1 & Q5"
   ]
  },
  {
   "cell_type": "code",
   "execution_count": 12,
   "id": "c0858056",
   "metadata": {},
   "outputs": [
    {
     "name": "stdout",
     "output_type": "stream",
     "text": [
      "              precision    recall  f1-score   support\n",
      "\n",
      "          Q1       0.59      0.61      0.60        67\n",
      "          Q2       0.28      0.17      0.21        59\n",
      "          Q3       0.22      0.29      0.25        52\n",
      "          Q4       0.31      0.22      0.25        60\n",
      "          Q5       0.51      0.71      0.59        55\n",
      "\n",
      "    accuracy                           0.40       293\n",
      "   macro avg       0.38      0.40      0.38       293\n",
      "weighted avg       0.39      0.40      0.39       293\n",
      "\n"
     ]
    }
   ],
   "source": [
    "# score\n",
    "grid_clf_rf.score(X_test, y_test)\n",
    "\n",
    "from sklearn.metrics import classification_report\n",
    "print(classification_report(y_test, y_pred))\n",
    "\n",
    "# la précision moyenne = 0.39 (Q1 : 0.60)\n",
    "# Recall = 0.41 (Q5 : 0.82)\n",
    "# F1 score moyen = 0.38 (Q1 : 0.63)"
   ]
  },
  {
   "cell_type": "markdown",
   "id": "35ea1bcf",
   "metadata": {},
   "source": [
    "## K nearest neighbours Classifier"
   ]
  },
  {
   "cell_type": "code",
   "execution_count": 16,
   "id": "d46ccce3",
   "metadata": {},
   "outputs": [
    {
     "data": {
      "text/html": [
       "<div>\n",
       "<style scoped>\n",
       "    .dataframe tbody tr th:only-of-type {\n",
       "        vertical-align: middle;\n",
       "    }\n",
       "\n",
       "    .dataframe tbody tr th {\n",
       "        vertical-align: top;\n",
       "    }\n",
       "\n",
       "    .dataframe thead th {\n",
       "        text-align: right;\n",
       "    }\n",
       "</style>\n",
       "<table border=\"1\" class=\"dataframe\">\n",
       "  <thead>\n",
       "    <tr style=\"text-align: right;\">\n",
       "      <th></th>\n",
       "      <th>Annee</th>\n",
       "      <th>Month</th>\n",
       "      <th>Day</th>\n",
       "      <th>Vitesse_vent_mean(m/s)</th>\n",
       "      <th>TMoy (°C)</th>\n",
       "      <th>Eolien_groups</th>\n",
       "    </tr>\n",
       "  </thead>\n",
       "  <tbody>\n",
       "    <tr>\n",
       "      <th>7305</th>\n",
       "      <td>2016</td>\n",
       "      <td>1</td>\n",
       "      <td>Friday</td>\n",
       "      <td>8.911429</td>\n",
       "      <td>4.72</td>\n",
       "      <td>Q3</td>\n",
       "    </tr>\n",
       "    <tr>\n",
       "      <th>7306</th>\n",
       "      <td>2016</td>\n",
       "      <td>1</td>\n",
       "      <td>Saturday</td>\n",
       "      <td>9.782500</td>\n",
       "      <td>8.51</td>\n",
       "      <td>Q5</td>\n",
       "    </tr>\n",
       "    <tr>\n",
       "      <th>7307</th>\n",
       "      <td>2016</td>\n",
       "      <td>1</td>\n",
       "      <td>Sunday</td>\n",
       "      <td>10.170000</td>\n",
       "      <td>6.70</td>\n",
       "      <td>Q5</td>\n",
       "    </tr>\n",
       "  </tbody>\n",
       "</table>\n",
       "</div>"
      ],
      "text/plain": [
       "      Annee  Month       Day  Vitesse_vent_mean(m/s)  TMoy (°C) Eolien_groups\n",
       "7305   2016      1    Friday                8.911429       4.72            Q3\n",
       "7306   2016      1  Saturday                9.782500       8.51            Q5\n",
       "7307   2016      1    Sunday               10.170000       6.70            Q5"
      ]
     },
     "execution_count": 16,
     "metadata": {},
     "output_type": "execute_result"
    }
   ],
   "source": [
    "Data.head(3)"
   ]
  },
  {
   "cell_type": "code",
   "execution_count": 18,
   "id": "a655ec42",
   "metadata": {},
   "outputs": [],
   "source": [
    "# Separer target & variables explicatives \n",
    "data = Data.drop('Eolien_groups', axis=1)\n",
    "target = Data['Eolien_groups']\n",
    "\n",
    "# Preparation des données :\n",
    "Categories = data[['Annee','Month', 'Day']]\n",
    "data = data.drop(['Annee','Month','Day'], axis=1)\n",
    "\n",
    "from sklearn import model_selection, preprocessing\n",
    "scaler = preprocessing.StandardScaler().fit(data)\n",
    "data[data.columns] = pd.DataFrame(scaler.transform(data), index=data.index)\n",
    "\n",
    "data = data.join(Categories)\n",
    "data = pd.get_dummies(data=data, columns=['Annee', 'Month', 'Day'])\n",
    "\n",
    "X_train, X_test, y_train, y_test = train_test_split(data, target, test_size=0.2, random_state=101)"
   ]
  },
  {
   "cell_type": "code",
   "execution_count": 19,
   "id": "451f02c0",
   "metadata": {},
   "outputs": [],
   "source": [
    "# Création du classifieur & recherche des meilleurs parametres\n",
    "from sklearn import neighbors\n",
    "from sklearn import model_selection\n",
    "from sklearn import datasets\n",
    "import numpy as np\n",
    "\n",
    "score_minko = []\n",
    "score_man = []\n",
    "score_cheb = []\n",
    "\n",
    "for k in range(1, 41):\n",
    "    knn = neighbors.KNeighborsClassifier(n_neighbors=k)\n",
    "    knn.fit(X_train, y_train)\n",
    "    score_minko.append(knn.score(X_test, y_test))\n",
    "\n",
    "for k in range(1, 41):\n",
    "    knn = neighbors.KNeighborsClassifier(n_neighbors=k, metric='manhattan')\n",
    "    knn.fit(X_train, y_train)\n",
    "    score_man.append(knn.score(X_test, y_test))\n",
    "    \n",
    "for k in range(1, 41):\n",
    "    knn = neighbors.KNeighborsClassifier(n_neighbors=k, metric='chebyshev')\n",
    "    knn.fit(X_train, y_train)\n",
    "    score_cheb.append(knn.score(X_test, y_test))"
   ]
  },
  {
   "cell_type": "code",
   "execution_count": 20,
   "id": "d473ac0e",
   "metadata": {},
   "outputs": [
    {
     "data": {
      "image/png": "[encoded data removed]",
      "text/plain": [
       "<Figure size 432x288 with 1 Axes>"
      ]
     },
     "metadata": {
      "needs_background": "light"
     },
     "output_type": "display_data"
    }
   ],
   "source": [
    "plt.plot(range(1, 41), score_minko, color='blue', linestyle='dashed', lw=2, label='Minkowski')\n",
    "plt.plot(range(1, 41), score_man, color='orange', linestyle='dashed', lw=2, label='Manhattan')\n",
    "plt.plot(range(1, 41), score_cheb, color='red', linestyle='dashed', lw=2, label='Chebyshev')\n",
    "plt.title('Score - valeur de K')  \n",
    "plt.xlabel('Valeur de K')  \n",
    "plt.ylabel('Accuracy') \n",
    "plt.legend();"
   ]
  },
  {
   "cell_type": "code",
   "execution_count": 21,
   "id": "abf07f05",
   "metadata": {},
   "outputs": [
    {
     "data": {
      "text/plain": [
       "0.4129692832764505"
      ]
     },
     "execution_count": 21,
     "metadata": {},
     "output_type": "execute_result"
    }
   ],
   "source": [
    "# Application du modèle avec k=15, distance Manhattan\n",
    "knn = neighbors.KNeighborsClassifier(n_neighbors=15, metric='manhattan')\n",
    "knn.fit(X_train, y_train)\n",
    "score = knn.score(X_test, y_test)\n",
    "score\n",
    "# avec ces parametres on obtient un score de 41%"
   ]
  },
  {
   "cell_type": "code",
   "execution_count": 24,
   "id": "6ad5bda2",
   "metadata": {},
   "outputs": [
    {
     "data": {
      "image/png": "[encoded data removed]",
      "text/plain": [
       "<Figure size 576x288 with 2 Axes>"
      ]
     },
     "metadata": {
      "needs_background": "light"
     },
     "output_type": "display_data"
    }
   ],
   "source": [
    "y_pred = knn.predict(X_test)\n",
    "# matrice de confusion\n",
    "table = pd.crosstab(y_test, y_pred, rownames=['Classe réelle'], colnames=['Classe prédite'], normalize = 0).round(2)\n",
    "plt.figure(figsize=(8,4))\n",
    "sns.heatmap(table, annot=True, cmap='RdBu_r')\n",
    "plt.savefig(\"Pictures/#40_-_KNN_confusion_matrix.png\", dpi=150, bbox_inches='tight')\n",
    "plt.show()"
   ]
  },
  {
   "cell_type": "code",
   "execution_count": 25,
   "id": "97448d44",
   "metadata": {},
   "outputs": [
    {
     "name": "stdout",
     "output_type": "stream",
     "text": [
      "              precision    recall  f1-score   support\n",
      "\n",
      "          Q1       0.50      0.52      0.51        67\n",
      "          Q2       0.31      0.25      0.28        59\n",
      "          Q3       0.22      0.27      0.24        52\n",
      "          Q4       0.45      0.30      0.36        60\n",
      "          Q5       0.55      0.71      0.62        55\n",
      "\n",
      "    accuracy                           0.41       293\n",
      "   macro avg       0.41      0.41      0.40       293\n",
      "weighted avg       0.41      0.41      0.41       293\n",
      "\n"
     ]
    }
   ],
   "source": [
    "print(classification_report(y_test, y_pred))"
   ]
  },
  {
   "cell_type": "code",
   "execution_count": null,
   "id": "d25fa9e5",
   "metadata": {},
   "outputs": [],
   "source": []
  }
 ],
 "metadata": {
  "kernelspec": {
   "display_name": "Python 3",
   "language": "python",
   "name": "python3"
  },
  "language_info": {
   "codemirror_mode": {
    "name": "ipython",
    "version": 3
   },
   "file_extension": ".py",
   "mimetype": "text/x-python",
   "name": "python",
   "nbconvert_exporter": "python",
   "pygments_lexer": "ipython3",
   "version": "3.8.8"
  }
 },
 "nbformat": 4,
 "nbformat_minor": 5
}
