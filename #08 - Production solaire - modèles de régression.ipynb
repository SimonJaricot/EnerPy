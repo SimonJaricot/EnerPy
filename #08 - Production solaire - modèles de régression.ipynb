{
 "cells": [
  {
   "cell_type": "markdown",
   "id": "17a8d9a6",
   "metadata": {},
   "source": [
    "## Contenu :\n",
    "### 1.  ElasticNetCV\n",
    "### 2.  Polynomial Features & Linear Regression\n",
    "### 3.  Random Forest Regression\n",
    "\n",
    "Ces algorithmes ont été essayés avec de nombreuses combinaisons de données et de variables, comme détaillé dans le rapport. Ce notebook contient le code uniquement pour le modèle finalement retenu  pour chaque algorithme. (Le code de toutes les combinaisons testées se trouve dans le branch \"Deborah\" du repo Github)\n",
    "\n",
    "_____________________________________________________________________________________________________________\n"
   ]
  },
  {
   "cell_type": "markdown",
   "id": "7f989315",
   "metadata": {},
   "source": [
    "## 1. ElasticNetCV\n",
    "\n",
    "Les meilleurs résultats pour cet algorithme ont été obtenus lorsque les données de la production solaire quotidienne de la région Nouvelle Aquitaine (région la plus productive) du 2016 au 2019 ont été utilisées, avec les variables explicatives suivantes: année, mois, rayonnement solaire moyen, vitesse du vent moyenne, temperature moyenne/ maximale/ minimale quotidienne "
   ]
  },
  {
   "cell_type": "code",
   "execution_count": 2,
   "id": "d8fb8817",
   "metadata": {},
   "outputs": [],
   "source": [
    "import pandas as pd\n",
    "import numpy as np\n",
    "import matplotlib.pyplot as plt\n",
    "%matplotlib inline \n",
    "import seaborn as sns\n",
    "from sklearn import model_selection, preprocessing\n",
    "from sklearn.model_selection import train_test_split\n",
    "from sklearn.linear_model import LinearRegression\n",
    "from sklearn.metrics import mean_squared_error\n",
    "from sklearn.linear_model import ElasticNetCV"
   ]
  },
  {
   "cell_type": "code",
   "execution_count": 22,
   "id": "11dae2f6",
   "metadata": {},
   "outputs": [
    {
     "name": "stdout",
     "output_type": "stream",
     "text": [
      "<class 'pandas.core.frame.DataFrame'>\n",
      "Int64Index: 1461 entries, 10227 to 11687\n",
      "Data columns (total 13 columns):\n",
      " #   Column                          Non-Null Count  Dtype  \n",
      "---  ------                          --------------  -----  \n",
      " 0   Région                          1461 non-null   object \n",
      " 1   Annee                           1461 non-null   int64  \n",
      " 2   Month                           1461 non-null   int64  \n",
      " 3   Date                            1461 non-null   int64  \n",
      " 4   Day                             1461 non-null   object \n",
      " 5   Eolien_sum(MW)                  1461 non-null   float64\n",
      " 6   Vitesse_vent_mean(m/s)          1461 non-null   float64\n",
      " 7   Solaire_sum(MW)                 1461 non-null   float64\n",
      " 8   Rayonnement_solaire_mean(W/m2)  1461 non-null   float64\n",
      " 9   Consommation-sum(MW)            1461 non-null   float64\n",
      " 10  TMin (°C)                       1461 non-null   float64\n",
      " 11  TMax (°C)                       1461 non-null   float64\n",
      " 12  TMoy (°C)                       1461 non-null   float64\n",
      "dtypes: float64(8), int64(3), object(2)\n",
      "memory usage: 159.8+ KB\n"
     ]
    }
   ],
   "source": [
    "#import des données (préparée dans le notebook \"Visualisation\")\n",
    "df = pd.read_csv(\"tempdata_2016_2019.csv\")\n",
    "# on prend Nouvelle Aquitaine\n",
    "NAQ = df.loc[(df[\"Région\"] == \"Nouvelle-Aquitaine\")]\n",
    "NAQ.info()\n",
    "# en selectionnant une seule région on n'a pas beaucoup de données : 1461 lignes"
   ]
  },
  {
   "cell_type": "code",
   "execution_count": 23,
   "id": "8b313211",
   "metadata": {},
   "outputs": [
    {
     "name": "stdout",
     "output_type": "stream",
     "text": [
      "[2104, 2257, 2788, 3016]\n"
     ]
    }
   ],
   "source": [
    "NAQ = NAQ.drop(['Région','Day', 'Date', 'Eolien_sum(MW)','Consommation-sum(MW)'], axis=1)\n",
    "# on remplace la variable categorielle \"Annee\" par la production moyenne pour cet année\n",
    "# (pour indiquer l'influence attendue de cette variable sur la production)\n",
    "means = []\n",
    "for year in NAQ[\"Annee\"].unique():    \n",
    "    means.append(NAQ['Solaire_sum(MW)'].loc[NAQ[\"Annee\"] == year].mean())\n",
    "print([round(num) for num in means])"
   ]
  },
  {
   "cell_type": "code",
   "execution_count": 24,
   "id": "261ff41f",
   "metadata": {},
   "outputs": [
    {
     "name": "stdout",
     "output_type": "stream",
     "text": [
      "[955, 1812, 2419, 3026, 3361, 3597, 3752, 3859, 3069, 2264, 1407, 938]\n"
     ]
    }
   ],
   "source": [
    "# on remplace la variable categorielle \"Month\" par la production moyenne pour chaque mois\n",
    "# (pour indiquer l'influence attendue de cette variable sur la production) \n",
    "means = []\n",
    "for month in NAQ[\"Month\"].unique():    \n",
    "    means.append(NAQ['Solaire_sum(MW)'].loc[NAQ[\"Month\"] == month].mean())\n",
    "print([round(num) for num in means])"
   ]
  },
  {
   "cell_type": "code",
   "execution_count": 25,
   "id": "2c6ba6ff",
   "metadata": {},
   "outputs": [
    {
     "data": {
      "text/html": [
       "<div>\n",
       "<style scoped>\n",
       "    .dataframe tbody tr th:only-of-type {\n",
       "        vertical-align: middle;\n",
       "    }\n",
       "\n",
       "    .dataframe tbody tr th {\n",
       "        vertical-align: top;\n",
       "    }\n",
       "\n",
       "    .dataframe thead th {\n",
       "        text-align: right;\n",
       "    }\n",
       "</style>\n",
       "<table border=\"1\" class=\"dataframe\">\n",
       "  <thead>\n",
       "    <tr style=\"text-align: right;\">\n",
       "      <th></th>\n",
       "      <th>Annee</th>\n",
       "      <th>Month</th>\n",
       "      <th>Vitesse_vent_mean(m/s)</th>\n",
       "      <th>Solaire_sum(MW)</th>\n",
       "      <th>Rayonnement_solaire_mean(W/m2)</th>\n",
       "      <th>TMin (°C)</th>\n",
       "      <th>TMax (°C)</th>\n",
       "      <th>TMoy (°C)</th>\n",
       "    </tr>\n",
       "  </thead>\n",
       "  <tbody>\n",
       "    <tr>\n",
       "      <th>10227</th>\n",
       "      <td>2104</td>\n",
       "      <td>955</td>\n",
       "      <td>8.102857</td>\n",
       "      <td>1042.0</td>\n",
       "      <td>67.292857</td>\n",
       "      <td>3.32</td>\n",
       "      <td>13.58</td>\n",
       "      <td>8.45</td>\n",
       "    </tr>\n",
       "    <tr>\n",
       "      <th>10228</th>\n",
       "      <td>2104</td>\n",
       "      <td>955</td>\n",
       "      <td>8.507500</td>\n",
       "      <td>810.0</td>\n",
       "      <td>50.072500</td>\n",
       "      <td>7.63</td>\n",
       "      <td>11.82</td>\n",
       "      <td>9.73</td>\n",
       "    </tr>\n",
       "    <tr>\n",
       "      <th>10229</th>\n",
       "      <td>2104</td>\n",
       "      <td>955</td>\n",
       "      <td>8.775000</td>\n",
       "      <td>179.0</td>\n",
       "      <td>13.750000</td>\n",
       "      <td>5.44</td>\n",
       "      <td>11.67</td>\n",
       "      <td>8.56</td>\n",
       "    </tr>\n",
       "  </tbody>\n",
       "</table>\n",
       "</div>"
      ],
      "text/plain": [
       "       Annee  Month  Vitesse_vent_mean(m/s)  Solaire_sum(MW)  \\\n",
       "10227   2104    955                8.102857           1042.0   \n",
       "10228   2104    955                8.507500            810.0   \n",
       "10229   2104    955                8.775000            179.0   \n",
       "\n",
       "       Rayonnement_solaire_mean(W/m2)  TMin (°C)  TMax (°C)  TMoy (°C)  \n",
       "10227                       67.292857       3.32      13.58       8.45  \n",
       "10228                       50.072500       7.63      11.82       9.73  \n",
       "10229                       13.750000       5.44      11.67       8.56  "
      ]
     },
     "execution_count": 25,
     "metadata": {},
     "output_type": "execute_result"
    }
   ],
   "source": [
    "encode = {\"Annee\": {2016: 2104, 2017: 2257, 2018: 2788, 2019:3016}, \n",
    "          \"Month\": {1: 955, 2: 1812, 3: 2419, 4: 3026, 5:3361, 6:3597, \n",
    "                    7:3752, 8:3859, 9:3069, 10:2264, 11: 1407, 12:938}}\n",
    "NAQ = NAQ.replace(encode)\n",
    "NAQ.head(3)"
   ]
  },
  {
   "cell_type": "code",
   "execution_count": 26,
   "id": "84189403",
   "metadata": {},
   "outputs": [
    {
     "data": {
      "text/html": [
       "<style>div.sk-top-container {color: black;background-color: white;}div.sk-toggleable {background-color: white;}label.sk-toggleable__label {cursor: pointer;display: block;width: 100%;margin-bottom: 0;padding: 0.2em 0.3em;box-sizing: border-box;text-align: center;}div.sk-toggleable__content {max-height: 0;max-width: 0;overflow: hidden;text-align: left;background-color: #f0f8ff;}div.sk-toggleable__content pre {margin: 0.2em;color: black;border-radius: 0.25em;background-color: #f0f8ff;}input.sk-toggleable__control:checked~div.sk-toggleable__content {max-height: 200px;max-width: 100%;overflow: auto;}div.sk-estimator input.sk-toggleable__control:checked~label.sk-toggleable__label {background-color: #d4ebff;}div.sk-label input.sk-toggleable__control:checked~label.sk-toggleable__label {background-color: #d4ebff;}input.sk-hidden--visually {border: 0;clip: rect(1px 1px 1px 1px);clip: rect(1px, 1px, 1px, 1px);height: 1px;margin: -1px;overflow: hidden;padding: 0;position: absolute;width: 1px;}div.sk-estimator {font-family: monospace;background-color: #f0f8ff;margin: 0.25em 0.25em;border: 1px dotted black;border-radius: 0.25em;box-sizing: border-box;}div.sk-estimator:hover {background-color: #d4ebff;}div.sk-parallel-item::after {content: \"\";width: 100%;border-bottom: 1px solid gray;flex-grow: 1;}div.sk-label:hover label.sk-toggleable__label {background-color: #d4ebff;}div.sk-serial::before {content: \"\";position: absolute;border-left: 1px solid gray;box-sizing: border-box;top: 2em;bottom: 0;left: 50%;}div.sk-serial {display: flex;flex-direction: column;align-items: center;background-color: white;}div.sk-item {z-index: 1;}div.sk-parallel {display: flex;align-items: stretch;justify-content: center;background-color: white;}div.sk-parallel-item {display: flex;flex-direction: column;position: relative;background-color: white;}div.sk-parallel-item:first-child::after {align-self: flex-end;width: 50%;}div.sk-parallel-item:last-child::after {align-self: flex-start;width: 50%;}div.sk-parallel-item:only-child::after {width: 0;}div.sk-dashed-wrapped {border: 1px dashed gray;margin: 0.2em;box-sizing: border-box;padding-bottom: 0.1em;background-color: white;position: relative;}div.sk-label label {font-family: monospace;font-weight: bold;background-color: white;display: inline-block;line-height: 1.2em;}div.sk-label-container {position: relative;z-index: 2;text-align: center;}div.sk-container {display: inline-block;position: relative;}</style><div class=\"sk-top-container\"><div class=\"sk-container\"><div class=\"sk-item\"><div class=\"sk-estimator sk-toggleable\"><input class=\"sk-toggleable__control sk-hidden--visually\" id=\"1b065ffd-64c8-40b1-8dea-8fd752149245\" type=\"checkbox\" checked><label class=\"sk-toggleable__label\" for=\"1b065ffd-64c8-40b1-8dea-8fd752149245\">ElasticNetCV</label><div class=\"sk-toggleable__content\"><pre>ElasticNetCV(alphas=(0.001, 0.01, 0.02, 0.025, 0.05, 0.1, 0.25, 0.5, 0.8, 1.0),\n",
       "             cv=8, l1_ratio=(0.1, 0.25, 0.5, 0.7, 0.75, 0.8, 0.85, 0.9, 0.99))</pre></div></div></div></div></div>"
      ],
      "text/plain": [
       "ElasticNetCV(alphas=(0.001, 0.01, 0.02, 0.025, 0.05, 0.1, 0.25, 0.5, 0.8, 1.0),\n",
       "             cv=8, l1_ratio=(0.1, 0.25, 0.5, 0.7, 0.75, 0.8, 0.85, 0.9, 0.99))"
      ]
     },
     "execution_count": 26,
     "metadata": {},
     "output_type": "execute_result"
    }
   ],
   "source": [
    "scaler = preprocessing.StandardScaler().fit(NAQ)\n",
    "NAQ[NAQ.columns] = pd.DataFrame(scaler.transform(NAQ), index=NAQ.index)\n",
    "\n",
    "# Separer target & variables explicatives\n",
    "data = NAQ.drop('Solaire_sum(MW)', axis=1)\n",
    "target = NAQ['Solaire_sum(MW)']\n",
    "\n",
    "# Separer train & test\n",
    "X_train, X_test, y_train, y_test = train_test_split(data, target, test_size=0.2, random_state=101)\n",
    "\n",
    "# Application du model : ElasticNetCV\n",
    "model_en = ElasticNetCV(cv=8, l1_ratio=(0.1, 0.25, 0.5, 0.7, 0.75, 0.8, 0.85, 0.9, 0.99), \n",
    "                        alphas=(0.001, 0.01, 0.02, 0.025, 0.05, 0.1, 0.25, 0.5, 0.8, 1.0))\n",
    "model_en.fit(X_train, y_train)"
   ]
  },
  {
   "cell_type": "code",
   "execution_count": 27,
   "id": "578cc1d2",
   "metadata": {},
   "outputs": [
    {
     "name": "stdout",
     "output_type": "stream",
     "text": [
      "rmse train : 0.3671967498353476\n",
      "rmse test : 0.38863329009180053\n",
      "score train : 0.8669784812365665\n",
      "score test : 0.8399132321940804\n"
     ]
    }
   ],
   "source": [
    "# Afficher les RMSE & scores\n",
    "pred_train = model_en.predict(X_train)\n",
    "pred_test = model_en.predict(X_test)\n",
    "print('rmse train :', np.sqrt(mean_squared_error(y_train, pred_train)))\n",
    "print('rmse test :', np.sqrt(mean_squared_error(y_test, pred_test)))\n",
    "\n",
    "print('score train :', model_en.score(X_train, y_train))\n",
    "print('score test :', model_en.score(X_test, y_test))"
   ]
  },
  {
   "cell_type": "code",
   "execution_count": 28,
   "id": "3ac37e7b",
   "metadata": {},
   "outputs": [
    {
     "name": "stdout",
     "output_type": "stream",
     "text": [
      "moyenne : 2540.950718685832\n",
      "ecart-type : 373.63074266303784\n"
     ]
    },
    {
     "data": {
      "text/html": [
       "<div>\n",
       "<style scoped>\n",
       "    .dataframe tbody tr th:only-of-type {\n",
       "        vertical-align: middle;\n",
       "    }\n",
       "\n",
       "    .dataframe tbody tr th {\n",
       "        vertical-align: top;\n",
       "    }\n",
       "\n",
       "    .dataframe thead th {\n",
       "        text-align: right;\n",
       "    }\n",
       "</style>\n",
       "<table border=\"1\" class=\"dataframe\">\n",
       "  <thead>\n",
       "    <tr style=\"text-align: right;\">\n",
       "      <th></th>\n",
       "      <th>true</th>\n",
       "      <th>predicted</th>\n",
       "    </tr>\n",
       "  </thead>\n",
       "  <tbody>\n",
       "    <tr>\n",
       "      <th>11091</th>\n",
       "      <td>2345.636464</td>\n",
       "      <td>2470.0</td>\n",
       "    </tr>\n",
       "    <tr>\n",
       "      <th>10588</th>\n",
       "      <td>2272.369861</td>\n",
       "      <td>2096.0</td>\n",
       "    </tr>\n",
       "    <tr>\n",
       "      <th>11149</th>\n",
       "      <td>3199.544387</td>\n",
       "      <td>3112.0</td>\n",
       "    </tr>\n",
       "    <tr>\n",
       "      <th>10388</th>\n",
       "      <td>2192.324141</td>\n",
       "      <td>2214.0</td>\n",
       "    </tr>\n",
       "    <tr>\n",
       "      <th>10742</th>\n",
       "      <td>2512.507020</td>\n",
       "      <td>2622.0</td>\n",
       "    </tr>\n",
       "    <tr>\n",
       "      <th>10782</th>\n",
       "      <td>2525.804517</td>\n",
       "      <td>2623.0</td>\n",
       "    </tr>\n",
       "    <tr>\n",
       "      <th>11352</th>\n",
       "      <td>2161.557382</td>\n",
       "      <td>2219.0</td>\n",
       "    </tr>\n",
       "  </tbody>\n",
       "</table>\n",
       "</div>"
      ],
      "text/plain": [
       "              true  predicted\n",
       "11091  2345.636464     2470.0\n",
       "10588  2272.369861     2096.0\n",
       "11149  3199.544387     3112.0\n",
       "10388  2192.324141     2214.0\n",
       "10742  2512.507020     2622.0\n",
       "10782  2525.804517     2623.0\n",
       "11352  2161.557382     2219.0"
      ]
     },
     "execution_count": 28,
     "metadata": {},
     "output_type": "execute_result"
    }
   ],
   "source": [
    "# afficher les predictions\n",
    "moy = scaler.mean_[0]\n",
    "ec = scaler.scale_[0]\n",
    "print(\"moyenne :\", moy)\n",
    "print(\"ecart-type :\", ec)\n",
    "\n",
    "predictions = pd.DataFrame({'true': (y_test*ec)+moy, 'predicted': np.round((pred_test*ec)+moy)}, \n",
    "             index=X_test.index)\n",
    "predictions.head(7)"
   ]
  },
  {
   "cell_type": "code",
   "execution_count": 29,
   "id": "42f1e72a",
   "metadata": {},
   "outputs": [
    {
     "data": {
      "image/png": "[encoded data removed]",
      "text/plain": [
       "<Figure size 576x432 with 1 Axes>"
      ]
     },
     "metadata": {
      "needs_background": "light"
     },
     "output_type": "display_data"
    }
   ],
   "source": [
    "# afficher un nuage de points\n",
    "plt.figure(figsize=(8, 6))\n",
    "plt.scatter(predictions.true, predictions.predicted,color='red', s=10)\n",
    "plt.plot((predictions.true.min(), predictions.true.max()), (predictions.true.min(), predictions.true.max()),color='k')\n",
    "plt.xlabel('True')\n",
    "plt.ylabel('Predicted')\n",
    "plt.savefig(\"Pictures/#41_-_SolarLR_predictions.png\", dpi=150, bbox_inches='tight')\n",
    "plt.show();"
   ]
  },
  {
   "cell_type": "code",
   "execution_count": 30,
   "id": "fc794df1",
   "metadata": {},
   "outputs": [
    {
     "data": {
      "image/png": "[encoded data removed]",
      "text/plain": [
       "<Figure size 576x432 with 1 Axes>"
      ]
     },
     "metadata": {
      "needs_background": "light"
     },
     "output_type": "display_data"
    }
   ],
   "source": [
    "# afficher la distribution des résidus\n",
    "residus = predictions.true - predictions.predicted\n",
    "plt.figure(figsize=(8, 6))\n",
    "plt.scatter(predictions.true, residus, color='#980a10', s=10)\n",
    "plt.plot((predictions.true.min(), predictions.true.max()), (0, 0), lw=3, color='#0a5798')\n",
    "plt.xlabel('True')\n",
    "plt.ylabel('residus')\n",
    "plt.savefig(\"Pictures/#42_-_SolarLR_residus.png\", dpi=150, bbox_inches='tight')\n",
    "plt.show();\n"
   ]
  },
  {
   "cell_type": "markdown",
   "id": "1fb7a3a2",
   "metadata": {},
   "source": [
    "## 2. Polynomial Features + Linear Regression\n",
    "\n",
    "Les meilleurs résultats pour cet algorithme ont été obtenus lorsque les données de la production solaire quotidienne de la région Nouvelle Aquitaine (région la plus productive) du 2016 au 2019 ont été utilisées, avec les variables explicatives suivantes: année, mois, rayonnement solaire moyen, vitesse du vent moyenne "
   ]
  },
  {
   "cell_type": "code",
   "execution_count": 11,
   "id": "a678eb2d",
   "metadata": {},
   "outputs": [
    {
     "data": {
      "text/html": [
       "<div>\n",
       "<style scoped>\n",
       "    .dataframe tbody tr th:only-of-type {\n",
       "        vertical-align: middle;\n",
       "    }\n",
       "\n",
       "    .dataframe tbody tr th {\n",
       "        vertical-align: top;\n",
       "    }\n",
       "\n",
       "    .dataframe thead th {\n",
       "        text-align: right;\n",
       "    }\n",
       "</style>\n",
       "<table border=\"1\" class=\"dataframe\">\n",
       "  <thead>\n",
       "    <tr style=\"text-align: right;\">\n",
       "      <th></th>\n",
       "      <th>Annee</th>\n",
       "      <th>Month</th>\n",
       "      <th>Vitesse_vent_mean(m/s)</th>\n",
       "      <th>Solaire_sum(MW)</th>\n",
       "      <th>Rayonnement_solaire_mean(W/m2)</th>\n",
       "    </tr>\n",
       "  </thead>\n",
       "  <tbody>\n",
       "    <tr>\n",
       "      <th>10227</th>\n",
       "      <td>-1.169472</td>\n",
       "      <td>-1.548738</td>\n",
       "      <td>2.221330</td>\n",
       "      <td>-1.046128</td>\n",
       "      <td>-1.049537</td>\n",
       "    </tr>\n",
       "    <tr>\n",
       "      <th>10228</th>\n",
       "      <td>-1.169472</td>\n",
       "      <td>-1.548738</td>\n",
       "      <td>2.527167</td>\n",
       "      <td>-1.208028</td>\n",
       "      <td>-1.245055</td>\n",
       "    </tr>\n",
       "    <tr>\n",
       "      <th>10229</th>\n",
       "      <td>-1.169472</td>\n",
       "      <td>-1.548738</td>\n",
       "      <td>2.729349</td>\n",
       "      <td>-1.648366</td>\n",
       "      <td>-1.657457</td>\n",
       "    </tr>\n",
       "  </tbody>\n",
       "</table>\n",
       "</div>"
      ],
      "text/plain": [
       "          Annee     Month  Vitesse_vent_mean(m/s)  Solaire_sum(MW)  \\\n",
       "10227 -1.169472 -1.548738                2.221330        -1.046128   \n",
       "10228 -1.169472 -1.548738                2.527167        -1.208028   \n",
       "10229 -1.169472 -1.548738                2.729349        -1.648366   \n",
       "\n",
       "       Rayonnement_solaire_mean(W/m2)  \n",
       "10227                       -1.049537  \n",
       "10228                       -1.245055  \n",
       "10229                       -1.657457  "
      ]
     },
     "execution_count": 11,
     "metadata": {},
     "output_type": "execute_result"
    }
   ],
   "source": [
    "# supprimer les colonnes que nous n'allons pas utiliser\n",
    "Data = NAQ.drop(['TMin (°C)','TMax (°C)','TMoy (°C)'], axis=1)\n",
    "Data.head(3)"
   ]
  },
  {
   "cell_type": "code",
   "execution_count": 12,
   "id": "2b830133",
   "metadata": {},
   "outputs": [
    {
     "data": {
      "text/html": [
       "<style>div.sk-top-container {color: black;background-color: white;}div.sk-toggleable {background-color: white;}label.sk-toggleable__label {cursor: pointer;display: block;width: 100%;margin-bottom: 0;padding: 0.2em 0.3em;box-sizing: border-box;text-align: center;}div.sk-toggleable__content {max-height: 0;max-width: 0;overflow: hidden;text-align: left;background-color: #f0f8ff;}div.sk-toggleable__content pre {margin: 0.2em;color: black;border-radius: 0.25em;background-color: #f0f8ff;}input.sk-toggleable__control:checked~div.sk-toggleable__content {max-height: 200px;max-width: 100%;overflow: auto;}div.sk-estimator input.sk-toggleable__control:checked~label.sk-toggleable__label {background-color: #d4ebff;}div.sk-label input.sk-toggleable__control:checked~label.sk-toggleable__label {background-color: #d4ebff;}input.sk-hidden--visually {border: 0;clip: rect(1px 1px 1px 1px);clip: rect(1px, 1px, 1px, 1px);height: 1px;margin: -1px;overflow: hidden;padding: 0;position: absolute;width: 1px;}div.sk-estimator {font-family: monospace;background-color: #f0f8ff;margin: 0.25em 0.25em;border: 1px dotted black;border-radius: 0.25em;box-sizing: border-box;}div.sk-estimator:hover {background-color: #d4ebff;}div.sk-parallel-item::after {content: \"\";width: 100%;border-bottom: 1px solid gray;flex-grow: 1;}div.sk-label:hover label.sk-toggleable__label {background-color: #d4ebff;}div.sk-serial::before {content: \"\";position: absolute;border-left: 1px solid gray;box-sizing: border-box;top: 2em;bottom: 0;left: 50%;}div.sk-serial {display: flex;flex-direction: column;align-items: center;background-color: white;}div.sk-item {z-index: 1;}div.sk-parallel {display: flex;align-items: stretch;justify-content: center;background-color: white;}div.sk-parallel-item {display: flex;flex-direction: column;position: relative;background-color: white;}div.sk-parallel-item:first-child::after {align-self: flex-end;width: 50%;}div.sk-parallel-item:last-child::after {align-self: flex-start;width: 50%;}div.sk-parallel-item:only-child::after {width: 0;}div.sk-dashed-wrapped {border: 1px dashed gray;margin: 0.2em;box-sizing: border-box;padding-bottom: 0.1em;background-color: white;position: relative;}div.sk-label label {font-family: monospace;font-weight: bold;background-color: white;display: inline-block;line-height: 1.2em;}div.sk-label-container {position: relative;z-index: 2;text-align: center;}div.sk-container {display: inline-block;position: relative;}</style><div class=\"sk-top-container\"><div class=\"sk-container\"><div class=\"sk-item sk-dashed-wrapped\"><div class=\"sk-label-container\"><div class=\"sk-label sk-toggleable\"><input class=\"sk-toggleable__control sk-hidden--visually\" id=\"8ac5e517-fd34-49a9-a7fd-e7dab4faee8b\" type=\"checkbox\" ><label class=\"sk-toggleable__label\" for=\"8ac5e517-fd34-49a9-a7fd-e7dab4faee8b\">Pipeline</label><div class=\"sk-toggleable__content\"><pre>Pipeline(steps=[('polynomialfeatures', PolynomialFeatures(degree=4)),\n",
       "                ('standardscaler', StandardScaler()),\n",
       "                ('linearregression', LinearRegression())])</pre></div></div></div><div class=\"sk-serial\"><div class=\"sk-item\"><div class=\"sk-estimator sk-toggleable\"><input class=\"sk-toggleable__control sk-hidden--visually\" id=\"de8aa78b-c2fa-408e-9451-8f1fe30946df\" type=\"checkbox\" ><label class=\"sk-toggleable__label\" for=\"de8aa78b-c2fa-408e-9451-8f1fe30946df\">PolynomialFeatures</label><div class=\"sk-toggleable__content\"><pre>PolynomialFeatures(degree=4)</pre></div></div></div><div class=\"sk-item\"><div class=\"sk-estimator sk-toggleable\"><input class=\"sk-toggleable__control sk-hidden--visually\" id=\"469a42ea-39e7-4ab9-b555-c3de54529ac9\" type=\"checkbox\" ><label class=\"sk-toggleable__label\" for=\"469a42ea-39e7-4ab9-b555-c3de54529ac9\">StandardScaler</label><div class=\"sk-toggleable__content\"><pre>StandardScaler()</pre></div></div></div><div class=\"sk-item\"><div class=\"sk-estimator sk-toggleable\"><input class=\"sk-toggleable__control sk-hidden--visually\" id=\"1cb339fe-1277-473c-ae07-6d58b2af68d0\" type=\"checkbox\" ><label class=\"sk-toggleable__label\" for=\"1cb339fe-1277-473c-ae07-6d58b2af68d0\">LinearRegression</label><div class=\"sk-toggleable__content\"><pre>LinearRegression()</pre></div></div></div></div></div></div></div>"
      ],
      "text/plain": [
       "Pipeline(steps=[('polynomialfeatures', PolynomialFeatures(degree=4)),\n",
       "                ('standardscaler', StandardScaler()),\n",
       "                ('linearregression', LinearRegression())])"
      ]
     },
     "execution_count": 12,
     "metadata": {},
     "output_type": "execute_result"
    }
   ],
   "source": [
    "from sklearn.preprocessing import PolynomialFeatures\n",
    "from sklearn.pipeline import make_pipeline\n",
    "from sklearn import set_config\n",
    "set_config(display='diagram')\n",
    "\n",
    "scaler = preprocessing.StandardScaler()\n",
    "degree=4\n",
    "model=make_pipeline(PolynomialFeatures(degree),scaler,LinearRegression())\n",
    "model.fit(X_train,y_train)"
   ]
  },
  {
   "cell_type": "code",
   "execution_count": 13,
   "id": "ceccc2cb",
   "metadata": {},
   "outputs": [
    {
     "name": "stdout",
     "output_type": "stream",
     "text": [
      "score train : 0.9377781072139327\n",
      "score test : 0.8456583723309442\n",
      "rmse train : 0.25113629714279884\n",
      "rmse test : 0.38159600482209255\n"
     ]
    }
   ],
   "source": [
    "# Evaluation du Model\n",
    "print('score train :', model.score(X_train, y_train))\n",
    "print('score test :', model.score(X_test, y_test))\n",
    "\n",
    "pred = model.predict(X_train)\n",
    "pred_test = model.predict(X_test)\n",
    "\n",
    "print('rmse train :', np.sqrt(mean_squared_error(y_train, pred)))\n",
    "print('rmse test :', np.sqrt(mean_squared_error(y_test, pred_test)))"
   ]
  },
  {
   "cell_type": "code",
   "execution_count": 15,
   "id": "b3cd8a28",
   "metadata": {},
   "outputs": [
    {
     "name": "stdout",
     "output_type": "stream",
     "text": [
      "0.9465943319875645\n",
      "0.8306950425937047\n"
     ]
    }
   ],
   "source": [
    "# Evaluation du model par validation croisée à 4 échantillons.\n",
    "from sklearn.model_selection import cross_validate\n",
    "print(cross_validate(model, X_train, y_train, return_train_score=True, cv=4)['train_score'].mean())\n",
    "print(cross_validate(model, X_train, y_train, return_train_score=True, cv=4)['test_score'].mean())"
   ]
  },
  {
   "cell_type": "markdown",
   "id": "2aa25c0c",
   "metadata": {},
   "source": [
    "## 3. Random Forest Regression\n",
    "\n",
    "Les meilleurs résultats pour cet algorithme ont été obtenus lorsque les données de la production solaire quotidienne de la région Nouvelle Aquitaine (région la plus productive) du 2016 au 2019 ont été utilisées, avec les variables explicatives suivantes: année, mois, rayonnement solaire moyen, vitesse du vent moyenne, temperature moyenne, min & max"
   ]
  },
  {
   "cell_type": "code",
   "execution_count": 18,
   "id": "ff188584",
   "metadata": {},
   "outputs": [
    {
     "name": "stdout",
     "output_type": "stream",
     "text": [
      "0.11198466583832585\n",
      "0.9876279586766995\n",
      "0.2921831220225105\n",
      "0.9095131045235694\n"
     ]
    }
   ],
   "source": [
    "from sklearn.ensemble import RandomForestRegressor\n",
    "from sklearn.metrics import r2_score\n",
    "from sklearn.metrics import mean_squared_error\n",
    "\n",
    "# Separer target & variables explicatives\n",
    "data = NAQ.drop('Solaire_sum(MW)', axis=1)\n",
    "target = NAQ['Solaire_sum(MW)']\n",
    "\n",
    "# Separer train & test\n",
    "X_train, X_test, y_train, y_test = train_test_split(data, target, test_size=0.2, random_state=101)\n",
    "\n",
    "# création de RandomForestRegressor\n",
    "rfr = RandomForestRegressor(n_estimators=500, oob_score=True, random_state=100)\n",
    "rfr.fit(X_train, y_train) \n",
    "\n",
    "# prédiction sur train set & calculation RMSE et R2 score\n",
    "pred_train= rfr.predict(X_train)\n",
    "print(np.sqrt(mean_squared_error(y_train,pred_train)))\n",
    "print(r2_score(y_train, pred_train))\n",
    "\n",
    "# prédiction sur test set & calculation RMSE et R2 score\n",
    "pred_test = rfr.predict(X_test)\n",
    "print(np.sqrt(mean_squared_error(y_test,pred_test)))\n",
    "print(r2_score(y_test, pred_test))"
   ]
  },
  {
   "cell_type": "code",
   "execution_count": 19,
   "id": "e86263ae",
   "metadata": {},
   "outputs": [
    {
     "name": "stdout",
     "output_type": "stream",
     "text": [
      "{'max_depth': 8, 'max_features': 'auto', 'n_estimators': 1000}\n"
     ]
    }
   ],
   "source": [
    "# chercher les meilleurs parametres\n",
    "from sklearn import model_selection\n",
    "rfr = RandomForestRegressor(random_state=22)\n",
    "parametres = {'n_estimators':[50, 100, 250, 500, 1000, 1500],'max_features': ['auto', 'sqrt'],'max_depth':[2, 4, 8]}\n",
    "grid_search = model_selection.GridSearchCV(estimator=rfr, param_grid=parametres, scoring='r2', cv = 5)\n",
    "grille = grid_search.fit(X_train,y_train)\n",
    "print(grid_search.best_params_)"
   ]
  },
  {
   "cell_type": "code",
   "execution_count": 20,
   "id": "e1cf5f7b",
   "metadata": {},
   "outputs": [
    {
     "name": "stdout",
     "output_type": "stream",
     "text": [
      "0.17044793250620505\n",
      "0.9713379189007656\n",
      "0.29290223616211863\n",
      "0.9090671480261378\n"
     ]
    }
   ],
   "source": [
    "# prédiction sur train set & calculation RMSE et R2 score\n",
    "pred_train= grid_search.predict(X_train)\n",
    "print(np.sqrt(mean_squared_error(y_train,pred_train)))\n",
    "print(r2_score(y_train, pred_train))\n",
    "\n",
    "# prédiction sur test set & calculation RMSE et R2 score\n",
    "pred_test = grid_search.predict(X_test)\n",
    "print(np.sqrt(mean_squared_error(y_test,pred_test)))\n",
    "print(r2_score(y_test, pred_test))"
   ]
  },
  {
   "cell_type": "code",
   "execution_count": null,
   "id": "c5739776",
   "metadata": {},
   "outputs": [],
   "source": []
  },
  {
   "cell_type": "code",
   "execution_count": null,
   "id": "205c2327",
   "metadata": {},
   "outputs": [],
   "source": []
  },
  {
   "cell_type": "code",
   "execution_count": null,
   "id": "60c097e5",
   "metadata": {},
   "outputs": [],
   "source": []
  }
 ],
 "metadata": {
  "kernelspec": {
   "display_name": "Python 3",
   "language": "python",
   "name": "python3"
  },
  "language_info": {
   "codemirror_mode": {
    "name": "ipython",
    "version": 3
   },
   "file_extension": ".py",
   "mimetype": "text/x-python",
   "name": "python",
   "nbconvert_exporter": "python",
   "pygments_lexer": "ipython3",
   "version": "3.8.8"
  }
 },
 "nbformat": 4,
 "nbformat_minor": 5
}
